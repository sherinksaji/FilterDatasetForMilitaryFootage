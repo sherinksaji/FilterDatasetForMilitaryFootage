{
 "cells": [
  {
   "cell_type": "code",
   "execution_count": 2,
   "metadata": {},
   "outputs": [
    {
     "name": "stderr",
     "output_type": "stream",
     "text": [
      "/home/sherin/.local/lib/python3.10/site-packages/tqdm/auto.py:21: TqdmWarning: IProgress not found. Please update jupyter and ipywidgets. See https://ipywidgets.readthedocs.io/en/stable/user_install.html\n",
      "  from .autonotebook import tqdm as notebook_tqdm\n"
     ]
    }
   ],
   "source": [
    "from datasets import load_from_disk\n",
    "import pandas as pd"
   ]
  },
  {
   "cell_type": "code",
   "execution_count": null,
   "metadata": {},
   "outputs": [],
   "source": [
    "dataset = load_from_disk(\"panda-70m-train\")\n"
   ]
  },
  {
   "cell_type": "code",
   "execution_count": null,
   "metadata": {},
   "outputs": [],
   "source": [
    "def filterByKeyWordsInCaption(example):\n",
    "    good_key_words = [\"soldier\", \"rifle\", \"tank\", \"uav\", \"bazooka\", \"army\", \"military\", \"aircraft\"]\n",
    "    bad_key_words = [\"video game\", \"movie\", \"video-game\",\"tank top\",\"tank-top\"]\n",
    "\n",
    "   \n",
    "    has_good_keyword = any(keyword in example[\"caption\"] for keyword in good_key_words)\n",
    "    has_bad_keyword = any(keyword in example[\"caption\"] for keyword in bad_key_words)\n",
    "\n",
    "    return has_good_keyword and not has_bad_keyword"
   ]
  },
  {
   "cell_type": "code",
   "execution_count": 13,
   "metadata": {},
   "outputs": [
    {
     "name": "stderr",
     "output_type": "stream",
     "text": [
      "Filter:   0%|          | 0/3779763 [00:00<?, ? examples/s]"
     ]
    },
    {
     "name": "stderr",
     "output_type": "stream",
     "text": [
      "Filter: 100%|██████████| 3779763/3779763 [04:19<00:00, 14545.92 examples/s]\n"
     ]
    }
   ],
   "source": [
    "\n",
    "filtered_dataset = dataset.filter(filterByKeyWordsInCaption)"
   ]
  },
  {
   "cell_type": "code",
   "execution_count": 14,
   "metadata": {},
   "outputs": [
    {
     "name": "stdout",
     "output_type": "stream",
     "text": [
      "       videoID                                          url  \\\n",
      "0  ---39MFGZ-k  https://www.youtube.com/watch?v=---39MFGZ-k   \n",
      "1  --7obwKr3JY  https://www.youtube.com/watch?v=--7obwKr3JY   \n",
      "2  --9Gbv8OpZQ  https://www.youtube.com/watch?v=--9Gbv8OpZQ   \n",
      "3  --A4nC5tpVI  https://www.youtube.com/watch?v=--A4nC5tpVI   \n",
      "4  --DWgBHm6lk  https://www.youtube.com/watch?v=--DWgBHm6lk   \n",
      "\n",
      "                                           timestamp  \\\n",
      "0  [['0:00:00.467', '0:00:04.504'], ['0:00:15.915...   \n",
      "1  [['0:00:01.968', '0:00:17.917'], ['0:00:22.355...   \n",
      "2  [['0:00:00.458', '0:00:04.504'], ['0:00:11.386...   \n",
      "3  [['0:00:02.750', '0:00:08.000'], ['0:00:09.791...   \n",
      "4  [['0:00:00.880', '0:00:08.280'], ['0:00:09.400...   \n",
      "\n",
      "                                             caption  \\\n",
      "0  ['The sheepherd school logo on a black backgro...   \n",
      "1  ['A young woman wearing a white tank top is ma...   \n",
      "2  ['A close up of a smoke machine with the words...   \n",
      "3  ['A diamond donation sign with a cross on it.'...   \n",
      "4  ['A man with glasses and a red hoodie sitting ...   \n",
      "\n",
      "                                      matching_score  \n",
      "0  [0.463134765625, 0.4677734375, 0.47802734375, ...  \n",
      "1  [0.4619140625, 0.42236328125, 0.456787109375, ...  \n",
      "2  [0.463134765625, 0.50390625, 0.47705078125, 0....  \n",
      "3  [0.451416015625, 0.4462890625, 0.413818359375,...  \n",
      "4  [0.472412109375, 0.443359375, 0.431884765625, ...  \n"
     ]
    }
   ],
   "source": [
    "df = pd.DataFrame(filtered_dataset[:5])\n",
    "print(df)\n"
   ]
  },
  {
   "cell_type": "code",
   "execution_count": 15,
   "metadata": {},
   "outputs": [
    {
     "name": "stdout",
     "output_type": "stream",
     "text": [
      "['The sheepherd school logo on a black background.', 'The man is holding a rifle and standing in front of a wooden fence.', 'It is a black background with white text that says \" thanks for watching please comment and rate\".', 'The text \"don\\'t be scared to prepare\" appears and disappears on a black background.', \"The logo for shepherd's school.\"]\n",
      "['A young woman wearing a white tank top is making a video on her phone.', 'The person is holding a pack of detergent and explaining how to use it.', 'There is a box of borax powder on a kitchen counter, and a person is holding it in their hand.', 'There is a clear plastic container sitting on top of a wooden table. inside the container, there is a small amount of white powder that appears to be flour or sugar.', 'There is a bowl of white liquid on a wooden table.', 'There is a mason jar filled with white powder on a wooden table.']\n",
      "['A close up of a smoke machine with the words kamado joe on it.', 'A man is standing in front of an outdoor grill and talking to the camera.', 'A close up of a thermometer on a red surface.', 'A wooden cutting board topped with a frying pan filled with beans and onions.', 'A person putting food into a pot on a grill.', 'A person is cooking food in a dutch oven on an outdoor grill.', 'A person is cooking food on an outdoor grill using a frying pan.', 'A red gas tank with a thermometer on it.', 'A person is cooking food in a pot on an outdoor grill.']\n",
      "['A diamond donation sign with a cross on it.', 'A man in a suit and tie on a news station.', 'A man in a suit is talking to a woman sitting in a chair.', 'Two men standing outside of a salvation army store.', 'A man in uniform makes a speech in front of a christmas tree.', 'A close up of a cross on a red surface.', 'A woman is holding a microphone in front of a camera.', 'A young man is standing in front of a gas station and talking to the camera.', 'A woman with white hair talking to a reporter.', 'A close up of a cross on a red surface.', 'A man in a military uniform is talking to the camera. he is wearing a blue shirt, and there is a christmas tree in the background.', 'A diamond cross pendant on a red surface.']\n",
      "['A man with glasses and a red hoodie sitting in a tent.', 'A person is lying under a blue tarp in the outdoors, and he is wearing a red hoodie.', 'A view of a snow covered forest from above.', 'A man is camping in a tent and drinking tea from a cup.', 'The person is hanging from a tree in a harness while cooking breakfast.', 'A camping stove, a pot, and a propane tank in the snow.', 'A man is standing in a snowy forest, wearing a helmet and goggles, and talking to the camera.', 'A blue tarp in the snow next to some trees.', 'There is a person hanging in a hammock in the middle of a snowy forest.', 'A person is climbing up a tree in the snow with a rope.', 'A man sitting in a hammock next to a tree.', 'A man is camping in a tent and drinking tea from a cup.']\n"
     ]
    }
   ],
   "source": [
    "for caption in df[\"caption\"]:\n",
    "    print(caption)\n",
    "    if 'soldier' in caption:\n",
    "        print(True)"
   ]
  }
 ],
 "metadata": {
  "kernelspec": {
   "display_name": "Python 3",
   "language": "python",
   "name": "python3"
  },
  "language_info": {
   "codemirror_mode": {
    "name": "ipython",
    "version": 3
   },
   "file_extension": ".py",
   "mimetype": "text/x-python",
   "name": "python",
   "nbconvert_exporter": "python",
   "pygments_lexer": "ipython3",
   "version": "3.10.12"
  }
 },
 "nbformat": 4,
 "nbformat_minor": 2
}
