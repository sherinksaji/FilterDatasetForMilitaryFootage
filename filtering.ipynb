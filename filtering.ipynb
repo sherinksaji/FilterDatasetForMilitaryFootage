{
 "cells": [
  {
   "cell_type": "code",
   "execution_count": 2,
   "metadata": {},
   "outputs": [
    {
     "name": "stderr",
     "output_type": "stream",
     "text": [
      "/home/sherin/.local/lib/python3.10/site-packages/tqdm/auto.py:21: TqdmWarning: IProgress not found. Please update jupyter and ipywidgets. See https://ipywidgets.readthedocs.io/en/stable/user_install.html\n",
      "  from .autonotebook import tqdm as notebook_tqdm\n"
     ]
    }
   ],
   "source": [
    "from datasets import load_from_disk\n",
    "import pandas as pd"
   ]
  },
  {
   "cell_type": "code",
   "execution_count": null,
   "metadata": {},
   "outputs": [],
   "source": [
    "dataset = load_from_disk(\"panda-70m-train\")\n"
   ]
  },
  {
   "cell_type": "code",
   "execution_count": null,
   "metadata": {},
   "outputs": [],
   "source": [
    "def filterByKeyWordsInCaption(example):\n",
    "    good_key_words = [\"soldier\"]#, \"rifle\", \"tank\", \"uav\", \"bazooka\", \"army\", \"military\", \"aircraft\"]\n",
    "    bad_key_words = [\"video game\", \"movie\", \"video-game\",\"tank top\",\"tank-top\",\"lego soldier\"]\n",
    "\n",
    "   \n",
    "    has_good_keyword = any(keyword in example[\"caption\"] for keyword in good_key_words)\n",
    "    has_bad_keyword = any(keyword in example[\"caption\"] for keyword in bad_key_words)\n",
    "\n",
    "    return has_good_keyword and not has_bad_keyword"
   ]
  },
  {
   "cell_type": "code",
   "execution_count": 17,
   "metadata": {},
   "outputs": [
    {
     "name": "stderr",
     "output_type": "stream",
     "text": [
      "Filter: 100%|██████████| 3779763/3779763 [04:31<00:00, 13921.11 examples/s]\n"
     ]
    }
   ],
   "source": [
    "\n",
    "filtered_dataset = dataset.filter(filterByKeyWordsInCaption)"
   ]
  },
  {
   "cell_type": "code",
   "execution_count": 18,
   "metadata": {},
   "outputs": [
    {
     "name": "stdout",
     "output_type": "stream",
     "text": [
      "       videoID                                          url  \\\n",
      "0  --H2N2NFNgU  https://www.youtube.com/watch?v=--H2N2NFNgU   \n",
      "1  --MB8KIOzV4  https://www.youtube.com/watch?v=--MB8KIOzV4   \n",
      "2  --h_3ncYI6I  https://www.youtube.com/watch?v=--h_3ncYI6I   \n",
      "3  -01IHd18v8w  https://www.youtube.com/watch?v=-01IHd18v8w   \n",
      "4  -09v7Va0Io4  https://www.youtube.com/watch?v=-09v7Va0Io4   \n",
      "\n",
      "                                           timestamp  \\\n",
      "0  [['0:00:01.600', '0:00:14.560'], ['0:00:22.520...   \n",
      "1  [['0:00:00.600', '0:00:05.680'], ['0:00:06.720...   \n",
      "2  [['0:00:02.066', '0:00:18.900'], ['0:00:21.533...   \n",
      "3  [['0:00:05.100', '0:00:45.933'], ['0:00:58.066...   \n",
      "4  [['0:00:03.680', '0:00:33.120'], ['0:00:37.120...   \n",
      "\n",
      "                                             caption  \\\n",
      "0  ['A woman carrying two children across a river...   \n",
      "1  ['A view from the top of a hill overlooking a ...   \n",
      "2  ['A group of men in suits sitting next to each...   \n",
      "3  ['A group of lego soldiers standing next to a ...   \n",
      "4  ['Person lights and buildings are lit up at ni...   \n",
      "\n",
      "                                      matching_score  \n",
      "0  [0.42724609375, 0.447021484375, 0.428955078125...  \n",
      "1  [0.43408203125, 0.4814453125, 0.4501953125, 0....  \n",
      "2  [0.45947265625, 0.455322265625, 0.455810546875...  \n",
      "3  [0.45556640625, 0.455322265625, 0.47216796875,...  \n",
      "4  [0.431884765625, 0.444091796875, 0.41918945312...  \n"
     ]
    }
   ],
   "source": [
    "df = pd.DataFrame(filtered_dataset[:5])\n",
    "print(df)\n"
   ]
  },
  {
   "cell_type": "code",
   "execution_count": 19,
   "metadata": {},
   "outputs": [
    {
     "name": "stdout",
     "output_type": "stream",
     "text": [
      "['A woman carrying two children across a river.', 'An asian woman on a news program.', 'A group of soldiers are guarding the border with myanmar.', 'A man standing next to a truck with people on it.', 'A group of people are being transported on a truck.', 'A woman in a white shirt is talking on the news.', 'A group of people walking down a street.', 'A woman is talking on the news.', 'A woman in a white shirt talking to a camera.']\n",
      "True\n",
      "['A view from the top of a hill overlooking a valley and mountains.', 'An aerial view of a large mound in the middle of a green field.', 'An aerial view of a large mound of dirt in the middle of a field.', 'The view from the top of a hill of a small village or hut in the valley.', 'An aerial view of a small village in a dirt field.', 'A man is walking on a hill and carrying a shovel.', 'A man digging in the dirt with a shovel.', 'A person standing in the dirt with a stick.', 'A man digging a hole in the sand.', 'There is a group of people digging in the dirt with shovels and pickaxes, and they appear to be carefully removing objects from the ground.', 'The person is digging up something with a shovel in a dirt area.', 'A man is digging in the dirt on a hill.', 'A man with a moustache sitting in a field.', 'It is a dirt road with buildings on either side and people walking on the road.', 'It is a group of people standing in front of a white building with a dog standing next to them.', 'Three men with hats standing next to a wall.', 'It is a dirt road with buildings on either side and a mountain in the background.', 'A man is walking up a rocky hill.', 'A group of people are walking on a rocky terrain.', 'A man with black shoes and boots walking down a rocky path with other people in the background.', 'A group of people are walking on a rocky terrain with mountains in the background.', 'A group of people standing around a bag in the desert.', 'A person is holding some small stones in their hand.', 'A group of men are standing in a dirt field.', 'Two soldiers standing near a hole in the ground.', 'A man in a military uniform reaches into a pile of dirt.', 'A person holding a piece of cloth in the sand.', 'A couple of men standing on a rocky hill.', 'A man looking at something through a microscope.', 'A person is holding a knife and cutting a dead animal on a plate.', \"A statue in a room with a mask on it's face.\", 'A woman is working in a laboratory, using a microscope to examine samples.', 'A person in white gloves examining a piece of metal.', 'A man and a woman looking at a microscope.', 'A man talking to a young girl in a lab.', 'It is a group of people working in a laboratory or workshop, with various tools and equipment around them.', 'A man is working in a laboratory with a microscope and other equipment.', 'A man is talking to the camera in front of a mosaic wall.', 'A man in a blue shirt is talking to the camera while standing in front of a mosaic wall.', 'Archaeologists are working on a dig site in peru, where they have uncovered ancient ruins and artifacts.', 'The archaeologist is using a trowel to excavate soil and uncover ancient pottery shards.', 'A man is standing in the ruins of an ancient building, and he is wearing a blue shirt.', 'A group of people are working together to build a house using traditional methods.', 'A person drawing on a piece of paper with a pen.', 'A man and a woman sitting at a table with a skull.', 'It is a group of people in a room looking at something on the table.', 'A man in a white shirt and tie is looking at a piece of paper.', 'A man is holding an object in his hand, which appears to be a piece of clothing.', 'A man in a white shirt and tie is sitting at a desk in a room with shelves filled with ceramic pots and other artifacts.', 'A man is using a pickaxe to dig into the ground.', 'A black background with a white object in the middle.']\n",
      "True\n",
      "['A group of men in suits sitting next to each other.', 'An asian man in a suit and tie on a tv screen.', 'People are walking along a dirt road in a poor neighborhood.', 'A soldier standing next to a crane lifting a container.', 'A soldier is standing in front of a fence wearing sunglasses and a green shirt. he is also wearing a helmet, and there is a blue sky visible in the background.', 'A group of soldiers are standing in front of a truck, and one of them is wearing a military uniform.']\n",
      "True\n",
      "['A group of lego soldiers standing next to a toy tank.', 'Two lego figurines standing next to a toy tank.', 'There are several toy soldiers dressed in military uniforms and holding weapons, including rifles and helmets.', 'A person is holding a toy model of an armored military vehicle.', 'A hand holding a piece of paper next to a toy tank.', 'It is a model of a military vehicle made out of lego bricks.', 'A model of an armored vehicle made out of legos.', 'A bunch of plastic doll heads in a bag on a table.', 'There are a bunch of flesh smiley face heads and a brick army on something.', 'There is a collection of military toys on a table.', 'A blurry picture of a room with a bed and a picture on the wall.', 'A shelf with a bunch of toy tanks on it.', 'A shelf with a bunch of toy tanks on it.', 'A shelf with a bunch of toy tanks on it.', 'A shelf with a bunch of toy tanks on it.']\n",
      "True\n",
      "['Person lights and buildings are lit up at night.', 'There is a large fire burning in the distance, with smoke and flames visible.', 'There is a lot of snow on the ground at night.', 'The syrian military fired missiles in response to israeli attacks on the damascus suburbs.', 'It is a time lapse of stars in the sky.', 'The speaker is a man wearing glasses and a white shirt, sitting in front of a gray background.', 'A group of soldiers are driving tanks in the desert and firing weapons.', 'President donald trump speaking at a podium in front of two american flags.', 'A group of men in suits shaking hands in a room.', 'A bunch of cars parked in a dirt lot next to a bunch of tanks.', 'A group of israeli soldiers standing next to each other.', 'The israel defense force logo on a silver background.', 'A bright light in the night sky.']\n",
      "True\n"
     ]
    }
   ],
   "source": [
    "for caption in df[\"caption\"]:\n",
    "    print(caption)\n",
    "    if 'soldier' in caption:\n",
    "        print(True)"
   ]
  }
 ],
 "metadata": {
  "kernelspec": {
   "display_name": "Python 3",
   "language": "python",
   "name": "python3"
  },
  "language_info": {
   "codemirror_mode": {
    "name": "ipython",
    "version": 3
   },
   "file_extension": ".py",
   "mimetype": "text/x-python",
   "name": "python",
   "nbconvert_exporter": "python",
   "pygments_lexer": "ipython3",
   "version": "3.10.12"
  }
 },
 "nbformat": 4,
 "nbformat_minor": 2
}
